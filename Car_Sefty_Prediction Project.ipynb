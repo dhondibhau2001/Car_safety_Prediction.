{
 "cells": [
  {
   "cell_type": "code",
   "execution_count": 1,
   "id": "44d8a3df",
   "metadata": {},
   "outputs": [],
   "source": [
    "import pandas as pd\n",
    "import numpy as np\n",
    "import matplotlib.pyplot as plt"
   ]
  },
  {
   "cell_type": "code",
   "execution_count": 2,
   "id": "2a9c199d",
   "metadata": {},
   "outputs": [],
   "source": [
    "df=pd.read_csv(\"car_evaluation.csv\",header=None)"
   ]
  },
  {
   "cell_type": "code",
   "execution_count": 3,
   "id": "5b0ecf3b",
   "metadata": {},
   "outputs": [
    {
     "data": {
      "text/html": [
       "<div>\n",
       "<style scoped>\n",
       "    .dataframe tbody tr th:only-of-type {\n",
       "        vertical-align: middle;\n",
       "    }\n",
       "\n",
       "    .dataframe tbody tr th {\n",
       "        vertical-align: top;\n",
       "    }\n",
       "\n",
       "    .dataframe thead th {\n",
       "        text-align: right;\n",
       "    }\n",
       "</style>\n",
       "<table border=\"1\" class=\"dataframe\">\n",
       "  <thead>\n",
       "    <tr style=\"text-align: right;\">\n",
       "      <th></th>\n",
       "      <th>0</th>\n",
       "      <th>1</th>\n",
       "      <th>2</th>\n",
       "      <th>3</th>\n",
       "      <th>4</th>\n",
       "      <th>5</th>\n",
       "      <th>6</th>\n",
       "    </tr>\n",
       "  </thead>\n",
       "  <tbody>\n",
       "    <tr>\n",
       "      <th>0</th>\n",
       "      <td>vhigh</td>\n",
       "      <td>vhigh</td>\n",
       "      <td>2</td>\n",
       "      <td>2</td>\n",
       "      <td>small</td>\n",
       "      <td>low</td>\n",
       "      <td>unacc</td>\n",
       "    </tr>\n",
       "    <tr>\n",
       "      <th>1</th>\n",
       "      <td>vhigh</td>\n",
       "      <td>vhigh</td>\n",
       "      <td>2</td>\n",
       "      <td>2</td>\n",
       "      <td>small</td>\n",
       "      <td>med</td>\n",
       "      <td>unacc</td>\n",
       "    </tr>\n",
       "    <tr>\n",
       "      <th>2</th>\n",
       "      <td>vhigh</td>\n",
       "      <td>vhigh</td>\n",
       "      <td>2</td>\n",
       "      <td>2</td>\n",
       "      <td>small</td>\n",
       "      <td>high</td>\n",
       "      <td>unacc</td>\n",
       "    </tr>\n",
       "    <tr>\n",
       "      <th>3</th>\n",
       "      <td>vhigh</td>\n",
       "      <td>vhigh</td>\n",
       "      <td>2</td>\n",
       "      <td>2</td>\n",
       "      <td>med</td>\n",
       "      <td>low</td>\n",
       "      <td>unacc</td>\n",
       "    </tr>\n",
       "    <tr>\n",
       "      <th>4</th>\n",
       "      <td>vhigh</td>\n",
       "      <td>vhigh</td>\n",
       "      <td>2</td>\n",
       "      <td>2</td>\n",
       "      <td>med</td>\n",
       "      <td>med</td>\n",
       "      <td>unacc</td>\n",
       "    </tr>\n",
       "    <tr>\n",
       "      <th>...</th>\n",
       "      <td>...</td>\n",
       "      <td>...</td>\n",
       "      <td>...</td>\n",
       "      <td>...</td>\n",
       "      <td>...</td>\n",
       "      <td>...</td>\n",
       "      <td>...</td>\n",
       "    </tr>\n",
       "    <tr>\n",
       "      <th>1723</th>\n",
       "      <td>low</td>\n",
       "      <td>low</td>\n",
       "      <td>5more</td>\n",
       "      <td>more</td>\n",
       "      <td>med</td>\n",
       "      <td>med</td>\n",
       "      <td>good</td>\n",
       "    </tr>\n",
       "    <tr>\n",
       "      <th>1724</th>\n",
       "      <td>low</td>\n",
       "      <td>low</td>\n",
       "      <td>5more</td>\n",
       "      <td>more</td>\n",
       "      <td>med</td>\n",
       "      <td>high</td>\n",
       "      <td>vgood</td>\n",
       "    </tr>\n",
       "    <tr>\n",
       "      <th>1725</th>\n",
       "      <td>low</td>\n",
       "      <td>low</td>\n",
       "      <td>5more</td>\n",
       "      <td>more</td>\n",
       "      <td>big</td>\n",
       "      <td>low</td>\n",
       "      <td>unacc</td>\n",
       "    </tr>\n",
       "    <tr>\n",
       "      <th>1726</th>\n",
       "      <td>low</td>\n",
       "      <td>low</td>\n",
       "      <td>5more</td>\n",
       "      <td>more</td>\n",
       "      <td>big</td>\n",
       "      <td>med</td>\n",
       "      <td>good</td>\n",
       "    </tr>\n",
       "    <tr>\n",
       "      <th>1727</th>\n",
       "      <td>low</td>\n",
       "      <td>low</td>\n",
       "      <td>5more</td>\n",
       "      <td>more</td>\n",
       "      <td>big</td>\n",
       "      <td>high</td>\n",
       "      <td>vgood</td>\n",
       "    </tr>\n",
       "  </tbody>\n",
       "</table>\n",
       "<p>1728 rows × 7 columns</p>\n",
       "</div>"
      ],
      "text/plain": [
       "          0      1      2     3      4     5      6\n",
       "0     vhigh  vhigh      2     2  small   low  unacc\n",
       "1     vhigh  vhigh      2     2  small   med  unacc\n",
       "2     vhigh  vhigh      2     2  small  high  unacc\n",
       "3     vhigh  vhigh      2     2    med   low  unacc\n",
       "4     vhigh  vhigh      2     2    med   med  unacc\n",
       "...     ...    ...    ...   ...    ...   ...    ...\n",
       "1723    low    low  5more  more    med   med   good\n",
       "1724    low    low  5more  more    med  high  vgood\n",
       "1725    low    low  5more  more    big   low  unacc\n",
       "1726    low    low  5more  more    big   med   good\n",
       "1727    low    low  5more  more    big  high  vgood\n",
       "\n",
       "[1728 rows x 7 columns]"
      ]
     },
     "execution_count": 3,
     "metadata": {},
     "output_type": "execute_result"
    }
   ],
   "source": [
    "df"
   ]
  },
  {
   "cell_type": "code",
   "execution_count": 4,
   "id": "af7d5f84",
   "metadata": {},
   "outputs": [
    {
     "data": {
      "text/plain": [
       "(1728, 7)"
      ]
     },
     "execution_count": 4,
     "metadata": {},
     "output_type": "execute_result"
    }
   ],
   "source": [
    "df.shape"
   ]
  },
  {
   "cell_type": "code",
   "execution_count": 5,
   "id": "137d26bf",
   "metadata": {},
   "outputs": [
    {
     "data": {
      "text/html": [
       "<div>\n",
       "<style scoped>\n",
       "    .dataframe tbody tr th:only-of-type {\n",
       "        vertical-align: middle;\n",
       "    }\n",
       "\n",
       "    .dataframe tbody tr th {\n",
       "        vertical-align: top;\n",
       "    }\n",
       "\n",
       "    .dataframe thead th {\n",
       "        text-align: right;\n",
       "    }\n",
       "</style>\n",
       "<table border=\"1\" class=\"dataframe\">\n",
       "  <thead>\n",
       "    <tr style=\"text-align: right;\">\n",
       "      <th></th>\n",
       "      <th>0</th>\n",
       "      <th>1</th>\n",
       "      <th>2</th>\n",
       "      <th>3</th>\n",
       "      <th>4</th>\n",
       "      <th>5</th>\n",
       "      <th>6</th>\n",
       "    </tr>\n",
       "  </thead>\n",
       "  <tbody>\n",
       "    <tr>\n",
       "      <th>0</th>\n",
       "      <td>vhigh</td>\n",
       "      <td>vhigh</td>\n",
       "      <td>2</td>\n",
       "      <td>2</td>\n",
       "      <td>small</td>\n",
       "      <td>low</td>\n",
       "      <td>unacc</td>\n",
       "    </tr>\n",
       "    <tr>\n",
       "      <th>1</th>\n",
       "      <td>vhigh</td>\n",
       "      <td>vhigh</td>\n",
       "      <td>2</td>\n",
       "      <td>2</td>\n",
       "      <td>small</td>\n",
       "      <td>med</td>\n",
       "      <td>unacc</td>\n",
       "    </tr>\n",
       "    <tr>\n",
       "      <th>2</th>\n",
       "      <td>vhigh</td>\n",
       "      <td>vhigh</td>\n",
       "      <td>2</td>\n",
       "      <td>2</td>\n",
       "      <td>small</td>\n",
       "      <td>high</td>\n",
       "      <td>unacc</td>\n",
       "    </tr>\n",
       "    <tr>\n",
       "      <th>3</th>\n",
       "      <td>vhigh</td>\n",
       "      <td>vhigh</td>\n",
       "      <td>2</td>\n",
       "      <td>2</td>\n",
       "      <td>med</td>\n",
       "      <td>low</td>\n",
       "      <td>unacc</td>\n",
       "    </tr>\n",
       "    <tr>\n",
       "      <th>4</th>\n",
       "      <td>vhigh</td>\n",
       "      <td>vhigh</td>\n",
       "      <td>2</td>\n",
       "      <td>2</td>\n",
       "      <td>med</td>\n",
       "      <td>med</td>\n",
       "      <td>unacc</td>\n",
       "    </tr>\n",
       "  </tbody>\n",
       "</table>\n",
       "</div>"
      ],
      "text/plain": [
       "       0      1  2  3      4     5      6\n",
       "0  vhigh  vhigh  2  2  small   low  unacc\n",
       "1  vhigh  vhigh  2  2  small   med  unacc\n",
       "2  vhigh  vhigh  2  2  small  high  unacc\n",
       "3  vhigh  vhigh  2  2    med   low  unacc\n",
       "4  vhigh  vhigh  2  2    med   med  unacc"
      ]
     },
     "execution_count": 5,
     "metadata": {},
     "output_type": "execute_result"
    }
   ],
   "source": [
    "df.head()"
   ]
  },
  {
   "cell_type": "code",
   "execution_count": 6,
   "id": "87a18727",
   "metadata": {},
   "outputs": [],
   "source": [
    "#REname column names:\n",
    "# we can see that the does not have proper column names. the column are merely labelled as 0,1,2,3 and so on. we should give proper \n",
    "# names to the columns. i will do it follows."
   ]
  },
  {
   "cell_type": "code",
   "execution_count": 7,
   "id": "44736ee5",
   "metadata": {},
   "outputs": [
    {
     "data": {
      "text/plain": [
       "['buying', 'maint', 'doors', 'persons', 'lug_boot', 'safety', 'class']"
      ]
     },
     "execution_count": 7,
     "metadata": {},
     "output_type": "execute_result"
    }
   ],
   "source": [
    "col_names=['buying','maint','doors','persons','lug_boot','safety','class']\n",
    "df.columns=col_names\n",
    "col_names"
   ]
  },
  {
   "cell_type": "code",
   "execution_count": 8,
   "id": "7ba8a807",
   "metadata": {},
   "outputs": [
    {
     "data": {
      "text/html": [
       "<div>\n",
       "<style scoped>\n",
       "    .dataframe tbody tr th:only-of-type {\n",
       "        vertical-align: middle;\n",
       "    }\n",
       "\n",
       "    .dataframe tbody tr th {\n",
       "        vertical-align: top;\n",
       "    }\n",
       "\n",
       "    .dataframe thead th {\n",
       "        text-align: right;\n",
       "    }\n",
       "</style>\n",
       "<table border=\"1\" class=\"dataframe\">\n",
       "  <thead>\n",
       "    <tr style=\"text-align: right;\">\n",
       "      <th></th>\n",
       "      <th>buying</th>\n",
       "      <th>maint</th>\n",
       "      <th>doors</th>\n",
       "      <th>persons</th>\n",
       "      <th>lug_boot</th>\n",
       "      <th>safety</th>\n",
       "      <th>class</th>\n",
       "    </tr>\n",
       "  </thead>\n",
       "  <tbody>\n",
       "    <tr>\n",
       "      <th>0</th>\n",
       "      <td>vhigh</td>\n",
       "      <td>vhigh</td>\n",
       "      <td>2</td>\n",
       "      <td>2</td>\n",
       "      <td>small</td>\n",
       "      <td>low</td>\n",
       "      <td>unacc</td>\n",
       "    </tr>\n",
       "    <tr>\n",
       "      <th>1</th>\n",
       "      <td>vhigh</td>\n",
       "      <td>vhigh</td>\n",
       "      <td>2</td>\n",
       "      <td>2</td>\n",
       "      <td>small</td>\n",
       "      <td>med</td>\n",
       "      <td>unacc</td>\n",
       "    </tr>\n",
       "    <tr>\n",
       "      <th>2</th>\n",
       "      <td>vhigh</td>\n",
       "      <td>vhigh</td>\n",
       "      <td>2</td>\n",
       "      <td>2</td>\n",
       "      <td>small</td>\n",
       "      <td>high</td>\n",
       "      <td>unacc</td>\n",
       "    </tr>\n",
       "    <tr>\n",
       "      <th>3</th>\n",
       "      <td>vhigh</td>\n",
       "      <td>vhigh</td>\n",
       "      <td>2</td>\n",
       "      <td>2</td>\n",
       "      <td>med</td>\n",
       "      <td>low</td>\n",
       "      <td>unacc</td>\n",
       "    </tr>\n",
       "    <tr>\n",
       "      <th>4</th>\n",
       "      <td>vhigh</td>\n",
       "      <td>vhigh</td>\n",
       "      <td>2</td>\n",
       "      <td>2</td>\n",
       "      <td>med</td>\n",
       "      <td>med</td>\n",
       "      <td>unacc</td>\n",
       "    </tr>\n",
       "  </tbody>\n",
       "</table>\n",
       "</div>"
      ],
      "text/plain": [
       "  buying  maint doors persons lug_boot safety  class\n",
       "0  vhigh  vhigh     2       2    small    low  unacc\n",
       "1  vhigh  vhigh     2       2    small    med  unacc\n",
       "2  vhigh  vhigh     2       2    small   high  unacc\n",
       "3  vhigh  vhigh     2       2      med    low  unacc\n",
       "4  vhigh  vhigh     2       2      med    med  unacc"
      ]
     },
     "execution_count": 8,
     "metadata": {},
     "output_type": "execute_result"
    }
   ],
   "source": [
    "df.head()"
   ]
  },
  {
   "cell_type": "markdown",
   "id": "dd1514dc",
   "metadata": {},
   "source": [
    "#we can see that the columns names are renamed. now, the columns have meaningful."
   ]
  },
  {
   "cell_type": "markdown",
   "id": "8bac88a2",
   "metadata": {},
   "source": [
    "# view summery of data set"
   ]
  },
  {
   "cell_type": "code",
   "execution_count": 10,
   "id": "6a577adf",
   "metadata": {},
   "outputs": [
    {
     "name": "stdout",
     "output_type": "stream",
     "text": [
      "<class 'pandas.core.frame.DataFrame'>\n",
      "RangeIndex: 1728 entries, 0 to 1727\n",
      "Data columns (total 7 columns):\n",
      " #   Column    Non-Null Count  Dtype \n",
      "---  ------    --------------  ----- \n",
      " 0   buying    1728 non-null   object\n",
      " 1   maint     1728 non-null   object\n",
      " 2   doors     1728 non-null   object\n",
      " 3   persons   1728 non-null   object\n",
      " 4   lug_boot  1728 non-null   object\n",
      " 5   safety    1728 non-null   object\n",
      " 6   class     1728 non-null   object\n",
      "dtypes: object(7)\n",
      "memory usage: 94.6+ KB\n"
     ]
    }
   ],
   "source": [
    "df.info()"
   ]
  },
  {
   "cell_type": "markdown",
   "id": "1ec9d633",
   "metadata": {},
   "source": [
    "# frequency distribution of values in variables"
   ]
  },
  {
   "cell_type": "markdown",
   "id": "d76dfb81",
   "metadata": {},
   "source": [
    "Now i will check the frequency counts of categorical variables "
   ]
  },
  {
   "cell_type": "code",
   "execution_count": 11,
   "id": "2746fc6c",
   "metadata": {},
   "outputs": [
    {
     "name": "stdout",
     "output_type": "stream",
     "text": [
      "vhigh    432\n",
      "high     432\n",
      "med      432\n",
      "low      432\n",
      "Name: buying, dtype: int64\n",
      "vhigh    432\n",
      "high     432\n",
      "med      432\n",
      "low      432\n",
      "Name: maint, dtype: int64\n",
      "2        432\n",
      "3        432\n",
      "4        432\n",
      "5more    432\n",
      "Name: doors, dtype: int64\n",
      "2       576\n",
      "4       576\n",
      "more    576\n",
      "Name: persons, dtype: int64\n",
      "small    576\n",
      "med      576\n",
      "big      576\n",
      "Name: lug_boot, dtype: int64\n",
      "low     576\n",
      "med     576\n",
      "high    576\n",
      "Name: safety, dtype: int64\n",
      "unacc    1210\n",
      "acc       384\n",
      "good       69\n",
      "vgood      65\n",
      "Name: class, dtype: int64\n"
     ]
    }
   ],
   "source": [
    "col_names=['buying','maint','doors','persons','lug_boot','safety','class']\n",
    "for col in col_names:\n",
    "    print(df[col].value_counts())"
   ]
  },
  {
   "cell_type": "markdown",
   "id": "83ddb84a",
   "metadata": {},
   "source": [
    "we can see that the doors and persons are categorical in nature. so , i will treat them as categorical variables. "
   ]
  },
  {
   "cell_type": "markdown",
   "id": "cbaf7355",
   "metadata": {},
   "source": [
    "# summery of variables"
   ]
  },
  {
   "cell_type": "markdown",
   "id": "7f0ce6c9",
   "metadata": {},
   "source": [
    ". there are 7 variables in the dataset all the variables are of categorical data type.\n",
    ". These are given by buying ,maint, doors, persons,lug_boot,saftey, and class\n",
    ". class is the target variable"
   ]
  },
  {
   "cell_type": "markdown",
   "id": "f5df3ae4",
   "metadata": {},
   "source": [
    "# Explore class variable"
   ]
  },
  {
   "cell_type": "code",
   "execution_count": 12,
   "id": "92f6ec40",
   "metadata": {},
   "outputs": [
    {
     "data": {
      "text/plain": [
       "unacc    1210\n",
       "acc       384\n",
       "good       69\n",
       "vgood      65\n",
       "Name: class, dtype: int64"
      ]
     },
     "execution_count": 12,
     "metadata": {},
     "output_type": "execute_result"
    }
   ],
   "source": [
    "df['class'].value_counts()"
   ]
  },
  {
   "cell_type": "markdown",
   "id": "9fbf7230",
   "metadata": {},
   "source": [
    "# Missing values"
   ]
  },
  {
   "cell_type": "code",
   "execution_count": 13,
   "id": "b80d68f8",
   "metadata": {},
   "outputs": [
    {
     "data": {
      "text/plain": [
       "buying      0\n",
       "maint       0\n",
       "doors       0\n",
       "persons     0\n",
       "lug_boot    0\n",
       "safety      0\n",
       "class       0\n",
       "dtype: int64"
      ]
     },
     "execution_count": 13,
     "metadata": {},
     "output_type": "execute_result"
    }
   ],
   "source": [
    "df.isnull().sum()"
   ]
  },
  {
   "cell_type": "markdown",
   "id": "0404037e",
   "metadata": {},
   "source": [
    "# declare feature vector and target variable"
   ]
  },
  {
   "cell_type": "code",
   "execution_count": 14,
   "id": "8c552fcf",
   "metadata": {},
   "outputs": [],
   "source": [
    "x=df.drop(['class'],axis=1)\n",
    "y=df['class']"
   ]
  },
  {
   "cell_type": "markdown",
   "id": "6edf26d5",
   "metadata": {},
   "source": [
    "x is independent features and \n",
    "y is dependent features"
   ]
  },
  {
   "cell_type": "markdown",
   "id": "3510dc4f",
   "metadata": {},
   "source": [
    "# split data into separete trainig and test set"
   ]
  },
  {
   "cell_type": "code",
   "execution_count": 15,
   "id": "1650b68b",
   "metadata": {},
   "outputs": [],
   "source": [
    "#split x and y into traing and testingsets\n",
    "from sklearn.model_selection import train_test_split\n",
    "x_train,x_test,y_train,y_test= train_test_split(x , y, test_size=0.33,random_state=42)"
   ]
  },
  {
   "cell_type": "code",
   "execution_count": 16,
   "id": "5bf4a5b6",
   "metadata": {},
   "outputs": [
    {
     "data": {
      "text/plain": [
       "(1157, 6)"
      ]
     },
     "execution_count": 16,
     "metadata": {},
     "output_type": "execute_result"
    }
   ],
   "source": [
    "# check the shape of x_train and x_test\n",
    "x_train.shape\n"
   ]
  },
  {
   "cell_type": "code",
   "execution_count": 17,
   "id": "f008e3bb",
   "metadata": {},
   "outputs": [
    {
     "data": {
      "text/plain": [
       "(571, 6)"
      ]
     },
     "execution_count": 17,
     "metadata": {},
     "output_type": "execute_result"
    }
   ],
   "source": [
    "x_test.shape"
   ]
  },
  {
   "cell_type": "markdown",
   "id": "67454839",
   "metadata": {},
   "source": [
    "# feture Engineering"
   ]
  },
  {
   "cell_type": "markdown",
   "id": "35a54e7d",
   "metadata": {},
   "source": [
    "Feature Engineering is the process of transforming raw data into usefull features that helps us to understand our model better\n",
    "and increase its predictive power. i will carry out feature engineering on differnt types of variables.\n"
   ]
  },
  {
   "cell_type": "markdown",
   "id": "92e06ed5",
   "metadata": {},
   "source": [
    "first , i will check the data types of variables again."
   ]
  },
  {
   "cell_type": "code",
   "execution_count": 18,
   "id": "d19d2b34",
   "metadata": {},
   "outputs": [
    {
     "data": {
      "text/plain": [
       "buying      object\n",
       "maint       object\n",
       "doors       object\n",
       "persons     object\n",
       "lug_boot    object\n",
       "safety      object\n",
       "dtype: object"
      ]
     },
     "execution_count": 18,
     "metadata": {},
     "output_type": "execute_result"
    }
   ],
   "source": [
    "#check data types in x_train\n",
    "x_train.dtypes"
   ]
  },
  {
   "cell_type": "markdown",
   "id": "377e737d",
   "metadata": {},
   "source": [
    "# Encode categorical variables"
   ]
  },
  {
   "cell_type": "markdown",
   "id": "889df298",
   "metadata": {},
   "source": [
    "Now, i will encode the categorical variables"
   ]
  },
  {
   "cell_type": "code",
   "execution_count": 19,
   "id": "8da02663",
   "metadata": {},
   "outputs": [
    {
     "data": {
      "text/html": [
       "<div>\n",
       "<style scoped>\n",
       "    .dataframe tbody tr th:only-of-type {\n",
       "        vertical-align: middle;\n",
       "    }\n",
       "\n",
       "    .dataframe tbody tr th {\n",
       "        vertical-align: top;\n",
       "    }\n",
       "\n",
       "    .dataframe thead th {\n",
       "        text-align: right;\n",
       "    }\n",
       "</style>\n",
       "<table border=\"1\" class=\"dataframe\">\n",
       "  <thead>\n",
       "    <tr style=\"text-align: right;\">\n",
       "      <th></th>\n",
       "      <th>buying</th>\n",
       "      <th>maint</th>\n",
       "      <th>doors</th>\n",
       "      <th>persons</th>\n",
       "      <th>lug_boot</th>\n",
       "      <th>safety</th>\n",
       "    </tr>\n",
       "  </thead>\n",
       "  <tbody>\n",
       "    <tr>\n",
       "      <th>48</th>\n",
       "      <td>vhigh</td>\n",
       "      <td>vhigh</td>\n",
       "      <td>3</td>\n",
       "      <td>more</td>\n",
       "      <td>med</td>\n",
       "      <td>low</td>\n",
       "    </tr>\n",
       "    <tr>\n",
       "      <th>468</th>\n",
       "      <td>high</td>\n",
       "      <td>vhigh</td>\n",
       "      <td>3</td>\n",
       "      <td>4</td>\n",
       "      <td>small</td>\n",
       "      <td>low</td>\n",
       "    </tr>\n",
       "    <tr>\n",
       "      <th>155</th>\n",
       "      <td>vhigh</td>\n",
       "      <td>high</td>\n",
       "      <td>3</td>\n",
       "      <td>more</td>\n",
       "      <td>small</td>\n",
       "      <td>high</td>\n",
       "    </tr>\n",
       "    <tr>\n",
       "      <th>1721</th>\n",
       "      <td>low</td>\n",
       "      <td>low</td>\n",
       "      <td>5more</td>\n",
       "      <td>more</td>\n",
       "      <td>small</td>\n",
       "      <td>high</td>\n",
       "    </tr>\n",
       "    <tr>\n",
       "      <th>1208</th>\n",
       "      <td>med</td>\n",
       "      <td>low</td>\n",
       "      <td>2</td>\n",
       "      <td>more</td>\n",
       "      <td>small</td>\n",
       "      <td>high</td>\n",
       "    </tr>\n",
       "  </tbody>\n",
       "</table>\n",
       "</div>"
      ],
      "text/plain": [
       "     buying  maint  doors persons lug_boot safety\n",
       "48    vhigh  vhigh      3    more      med    low\n",
       "468    high  vhigh      3       4    small    low\n",
       "155   vhigh   high      3    more    small   high\n",
       "1721    low    low  5more    more    small   high\n",
       "1208    med    low      2    more    small   high"
      ]
     },
     "execution_count": 19,
     "metadata": {},
     "output_type": "execute_result"
    }
   ],
   "source": [
    "x_train.head()"
   ]
  },
  {
   "cell_type": "markdown",
   "id": "48cb88dd",
   "metadata": {},
   "source": [
    "we can see that all the variables are ordinal data type."
   ]
  },
  {
   "cell_type": "code",
   "execution_count": 20,
   "id": "794afb01",
   "metadata": {},
   "outputs": [],
   "source": [
    "#import categorical encoders\n",
    "import category_encoders as ce"
   ]
  },
  {
   "cell_type": "code",
   "execution_count": 21,
   "id": "1f04f532",
   "metadata": {},
   "outputs": [],
   "source": [
    "#encode variable with ordinal encoding\n",
    "encoder= ce.OrdinalEncoder(cols=['buying','maint','doors','persons','lug_boot','safety'])\n",
    "x_train=encoder.fit_transform(x_train)\n",
    "x_test=encoder.fit_transform(x_test)"
   ]
  },
  {
   "cell_type": "code",
   "execution_count": 22,
   "id": "b5aab1e5",
   "metadata": {},
   "outputs": [
    {
     "data": {
      "text/html": [
       "<div>\n",
       "<style scoped>\n",
       "    .dataframe tbody tr th:only-of-type {\n",
       "        vertical-align: middle;\n",
       "    }\n",
       "\n",
       "    .dataframe tbody tr th {\n",
       "        vertical-align: top;\n",
       "    }\n",
       "\n",
       "    .dataframe thead th {\n",
       "        text-align: right;\n",
       "    }\n",
       "</style>\n",
       "<table border=\"1\" class=\"dataframe\">\n",
       "  <thead>\n",
       "    <tr style=\"text-align: right;\">\n",
       "      <th></th>\n",
       "      <th>buying</th>\n",
       "      <th>maint</th>\n",
       "      <th>doors</th>\n",
       "      <th>persons</th>\n",
       "      <th>lug_boot</th>\n",
       "      <th>safety</th>\n",
       "    </tr>\n",
       "  </thead>\n",
       "  <tbody>\n",
       "    <tr>\n",
       "      <th>48</th>\n",
       "      <td>1</td>\n",
       "      <td>1</td>\n",
       "      <td>1</td>\n",
       "      <td>1</td>\n",
       "      <td>1</td>\n",
       "      <td>1</td>\n",
       "    </tr>\n",
       "    <tr>\n",
       "      <th>468</th>\n",
       "      <td>2</td>\n",
       "      <td>1</td>\n",
       "      <td>1</td>\n",
       "      <td>2</td>\n",
       "      <td>2</td>\n",
       "      <td>1</td>\n",
       "    </tr>\n",
       "    <tr>\n",
       "      <th>155</th>\n",
       "      <td>1</td>\n",
       "      <td>2</td>\n",
       "      <td>1</td>\n",
       "      <td>1</td>\n",
       "      <td>2</td>\n",
       "      <td>2</td>\n",
       "    </tr>\n",
       "    <tr>\n",
       "      <th>1721</th>\n",
       "      <td>3</td>\n",
       "      <td>3</td>\n",
       "      <td>2</td>\n",
       "      <td>1</td>\n",
       "      <td>2</td>\n",
       "      <td>2</td>\n",
       "    </tr>\n",
       "    <tr>\n",
       "      <th>1208</th>\n",
       "      <td>4</td>\n",
       "      <td>3</td>\n",
       "      <td>3</td>\n",
       "      <td>1</td>\n",
       "      <td>2</td>\n",
       "      <td>2</td>\n",
       "    </tr>\n",
       "  </tbody>\n",
       "</table>\n",
       "</div>"
      ],
      "text/plain": [
       "      buying  maint  doors  persons  lug_boot  safety\n",
       "48         1      1      1        1         1       1\n",
       "468        2      1      1        2         2       1\n",
       "155        1      2      1        1         2       2\n",
       "1721       3      3      2        1         2       2\n",
       "1208       4      3      3        1         2       2"
      ]
     },
     "execution_count": 22,
     "metadata": {},
     "output_type": "execute_result"
    }
   ],
   "source": [
    "x_train.head()"
   ]
  },
  {
   "cell_type": "code",
   "execution_count": 23,
   "id": "47709b86",
   "metadata": {},
   "outputs": [
    {
     "data": {
      "text/html": [
       "<div>\n",
       "<style scoped>\n",
       "    .dataframe tbody tr th:only-of-type {\n",
       "        vertical-align: middle;\n",
       "    }\n",
       "\n",
       "    .dataframe tbody tr th {\n",
       "        vertical-align: top;\n",
       "    }\n",
       "\n",
       "    .dataframe thead th {\n",
       "        text-align: right;\n",
       "    }\n",
       "</style>\n",
       "<table border=\"1\" class=\"dataframe\">\n",
       "  <thead>\n",
       "    <tr style=\"text-align: right;\">\n",
       "      <th></th>\n",
       "      <th>buying</th>\n",
       "      <th>maint</th>\n",
       "      <th>doors</th>\n",
       "      <th>persons</th>\n",
       "      <th>lug_boot</th>\n",
       "      <th>safety</th>\n",
       "    </tr>\n",
       "  </thead>\n",
       "  <tbody>\n",
       "    <tr>\n",
       "      <th>599</th>\n",
       "      <td>1</td>\n",
       "      <td>1</td>\n",
       "      <td>1</td>\n",
       "      <td>1</td>\n",
       "      <td>1</td>\n",
       "      <td>1</td>\n",
       "    </tr>\n",
       "    <tr>\n",
       "      <th>1201</th>\n",
       "      <td>2</td>\n",
       "      <td>2</td>\n",
       "      <td>2</td>\n",
       "      <td>2</td>\n",
       "      <td>1</td>\n",
       "      <td>2</td>\n",
       "    </tr>\n",
       "    <tr>\n",
       "      <th>628</th>\n",
       "      <td>1</td>\n",
       "      <td>1</td>\n",
       "      <td>3</td>\n",
       "      <td>1</td>\n",
       "      <td>2</td>\n",
       "      <td>2</td>\n",
       "    </tr>\n",
       "    <tr>\n",
       "      <th>1498</th>\n",
       "      <td>3</td>\n",
       "      <td>1</td>\n",
       "      <td>3</td>\n",
       "      <td>2</td>\n",
       "      <td>1</td>\n",
       "      <td>2</td>\n",
       "    </tr>\n",
       "    <tr>\n",
       "      <th>1263</th>\n",
       "      <td>2</td>\n",
       "      <td>2</td>\n",
       "      <td>1</td>\n",
       "      <td>3</td>\n",
       "      <td>1</td>\n",
       "      <td>3</td>\n",
       "    </tr>\n",
       "  </tbody>\n",
       "</table>\n",
       "</div>"
      ],
      "text/plain": [
       "      buying  maint  doors  persons  lug_boot  safety\n",
       "599        1      1      1        1         1       1\n",
       "1201       2      2      2        2         1       2\n",
       "628        1      1      3        1         2       2\n",
       "1498       3      1      3        2         1       2\n",
       "1263       2      2      1        3         1       3"
      ]
     },
     "execution_count": 23,
     "metadata": {},
     "output_type": "execute_result"
    }
   ],
   "source": [
    "x_test.head()"
   ]
  },
  {
   "cell_type": "markdown",
   "id": "2e23cf82",
   "metadata": {},
   "source": [
    "# Decision Tree Classifier with criterion gini index"
   ]
  },
  {
   "cell_type": "code",
   "execution_count": 24,
   "id": "d51ffc21",
   "metadata": {},
   "outputs": [],
   "source": [
    "# import DecisionTreeClassifier\n",
    "from sklearn.tree import DecisionTreeClassifier"
   ]
  },
  {
   "cell_type": "code",
   "execution_count": 25,
   "id": "3eb682dd",
   "metadata": {},
   "outputs": [
    {
     "data": {
      "text/plain": [
       "DecisionTreeClassifier(max_depth=3, random_state=0)"
      ]
     },
     "execution_count": 25,
     "metadata": {},
     "output_type": "execute_result"
    }
   ],
   "source": [
    "#instantiate the DecisionTreeClassifier model with criterion gini index \n",
    "clf_gini= DecisionTreeClassifier(criterion='gini',max_depth=3,random_state=0)\n",
    "\n",
    "# fit the model\n",
    "clf_gini.fit(x_train,y_train)"
   ]
  },
  {
   "cell_type": "markdown",
   "id": "bfc1835c",
   "metadata": {},
   "source": [
    "# predict the test set results with criterion gini index"
   ]
  },
  {
   "cell_type": "code",
   "execution_count": 26,
   "id": "7f270a09",
   "metadata": {},
   "outputs": [],
   "source": [
    "y_pred_gini= clf_gini.predict(x_test)"
   ]
  },
  {
   "cell_type": "markdown",
   "id": "3766592b",
   "metadata": {},
   "source": [
    "# check accuracy score with criterion gini index"
   ]
  },
  {
   "cell_type": "code",
   "execution_count": 27,
   "id": "517024fb",
   "metadata": {},
   "outputs": [
    {
     "name": "stdout",
     "output_type": "stream",
     "text": [
      "model accuracy score with criterion gini index:0.5271\n"
     ]
    }
   ],
   "source": [
    "from sklearn.metrics import accuracy_score\n",
    "print('model accuracy score with criterion gini index:{0:0.4f}'.format(accuracy_score(y_test,y_pred_gini)))"
   ]
  },
  {
   "cell_type": "markdown",
   "id": "8c03ca01",
   "metadata": {},
   "source": [
    "# DecisionTreeClassifier.score(y_test,y_pred_gini)"
   ]
  },
  {
   "cell_type": "markdown",
   "id": "a4fc9beb",
   "metadata": {},
   "source": [
    "here y_test are the true class labels and y_pred_gini are the predicted class labels in the test-set"
   ]
  },
  {
   "cell_type": "markdown",
   "id": "a378a30c",
   "metadata": {},
   "source": [
    "# compare the train-set and test-set accuracy"
   ]
  },
  {
   "cell_type": "markdown",
   "id": "ac186dc9",
   "metadata": {},
   "source": [
    "now, i will compare the train-set and test-set accuracy to check for overfitting"
   ]
  },
  {
   "cell_type": "code",
   "execution_count": 28,
   "id": "52522c1f",
   "metadata": {},
   "outputs": [
    {
     "data": {
      "text/plain": [
       "array(['unacc', 'unacc', 'unacc', ..., 'unacc', 'unacc', 'acc'],\n",
       "      dtype=object)"
      ]
     },
     "execution_count": 28,
     "metadata": {},
     "output_type": "execute_result"
    }
   ],
   "source": [
    "y_pred_train_gini= clf_gini.predict(x_train)\n",
    "y_pred_train_gini"
   ]
  },
  {
   "cell_type": "code",
   "execution_count": 29,
   "id": "33a4be95",
   "metadata": {},
   "outputs": [
    {
     "name": "stdout",
     "output_type": "stream",
     "text": [
      "trainig-set accuracy score:0.7865\n"
     ]
    }
   ],
   "source": [
    "print('trainig-set accuracy score:{0:0.4f}'.format(accuracy_score(y_train,y_pred_train_gini)))"
   ]
  },
  {
   "cell_type": "markdown",
   "id": "80735862",
   "metadata": {},
   "source": [
    "# Check for overfitting and underfitting"
   ]
  },
  {
   "cell_type": "code",
   "execution_count": 30,
   "id": "95ed2e1d",
   "metadata": {},
   "outputs": [
    {
     "name": "stdout",
     "output_type": "stream",
     "text": [
      "Training set score:0.7865\n",
      "test set score :0.5271\n"
     ]
    }
   ],
   "source": [
    "#print the score on trainig and test set\n",
    "print('Training set score:{:.4f}'.format(clf_gini.score(x_train,y_train)))\n",
    "print('test set score :{:.4f}'.format(clf_gini.score(x_test,y_test)))"
   ]
  },
  {
   "cell_type": "markdown",
   "id": "ff964d5f",
   "metadata": {},
   "source": [
    "Here, the training -set accuracy score is 0.7865 while the test set accuracy to be 0.5271. these two values are quite comparable\n",
    "so, these is no sign of overfitting."
   ]
  },
  {
   "cell_type": "markdown",
   "id": "d53bec5d",
   "metadata": {},
   "source": [
    "# Visualize decision tree"
   ]
  },
  {
   "cell_type": "code",
   "execution_count": 31,
   "id": "da7c52b6",
   "metadata": {},
   "outputs": [
    {
     "data": {
      "text/plain": [
       "[Text(0.4, 0.875, 'X[5] <= 1.5\\ngini = 0.455\\nsamples = 1157\\nvalue = [255, 49, 813, 40]'),\n",
       " Text(0.2, 0.625, 'gini = 0.0\\nsamples = 386\\nvalue = [0, 0, 386, 0]'),\n",
       " Text(0.6, 0.625, 'X[3] <= 2.5\\ngini = 0.577\\nsamples = 771\\nvalue = [255, 49, 427, 40]'),\n",
       " Text(0.4, 0.375, 'X[0] <= 2.5\\ngini = 0.631\\nsamples = 525\\nvalue = [255, 49, 181, 40]'),\n",
       " Text(0.2, 0.125, 'gini = 0.496\\nsamples = 271\\nvalue = [124, 0, 147, 0]'),\n",
       " Text(0.6, 0.125, 'gini = 0.654\\nsamples = 254\\nvalue = [131, 49, 34, 40]'),\n",
       " Text(0.8, 0.375, 'gini = 0.0\\nsamples = 246\\nvalue = [0, 0, 246, 0]')]"
      ]
     },
     "execution_count": 31,
     "metadata": {},
     "output_type": "execute_result"
    },
    {
     "data": {
      "image/png": "[encoded data removed]",
      "text/plain": [
       "<Figure size 1200x800 with 1 Axes>"
      ]
     },
     "metadata": {},
     "output_type": "display_data"
    }
   ],
   "source": [
    "plt.figure(figsize=(12,8))\n",
    "from sklearn import tree\n",
    "tree.plot_tree(clf_gini.fit(x_train,y_train))"
   ]
  },
  {
   "cell_type": "code",
   "execution_count": 32,
   "id": "f5c46987",
   "metadata": {},
   "outputs": [
    {
     "name": "stdout",
     "output_type": "stream",
     "text": [
      "Collecting package metadata (current_repodata.json): ...working... done\n",
      "Solving environment: ...working... done\n",
      "\n",
      "## Package Plan ##\n",
      "\n",
      "  environment location: C:\\anaconda\n",
      "\n",
      "  added / updated specs:\n",
      "    - python-graphviz\n",
      "\n",
      "\n",
      "The following packages will be downloaded:\n",
      "\n",
      "    package                    |            build\n",
      "    ---------------------------|-----------------\n",
      "    openssl-1.1.1u             |       h2bbff1b_0         5.5 MB\n",
      "    ------------------------------------------------------------\n",
      "                                           Total:         5.5 MB\n",
      "\n",
      "The following packages will be UPDATED:\n",
      "\n",
      "  openssl                                 1.1.1t-h2bbff1b_0 --> 1.1.1u-h2bbff1b_0 None\n",
      "\n",
      "\n",
      "\n",
      "Downloading and Extracting Packages\n",
      "\n",
      "openssl-1.1.1u       | 5.5 MB    |            |   0% \n",
      "openssl-1.1.1u       | 5.5 MB    |            |   0% \n",
      "openssl-1.1.1u       | 5.5 MB    |            |   1% \n",
      "openssl-1.1.1u       | 5.5 MB    | 3          |   4% \n",
      "openssl-1.1.1u       | 5.5 MB    | 5          |   5% \n",
      "openssl-1.1.1u       | 5.5 MB    | 7          |   8% \n",
      "openssl-1.1.1u       | 5.5 MB    | 9          |  10% \n",
      "openssl-1.1.1u       | 5.5 MB    | #1         |  12% \n",
      "openssl-1.1.1u       | 5.5 MB    | #4         |  15% \n",
      "openssl-1.1.1u       | 5.5 MB    | #6         |  17% \n",
      "openssl-1.1.1u       | 5.5 MB    | #9         |  19% \n",
      "openssl-1.1.1u       | 5.5 MB    | ##1        |  22% \n",
      "openssl-1.1.1u       | 5.5 MB    | ##4        |  24% \n",
      "openssl-1.1.1u       | 5.5 MB    | ##6        |  26% \n",
      "openssl-1.1.1u       | 5.5 MB    | ##9        |  30% \n",
      "openssl-1.1.1u       | 5.5 MB    | ###1       |  32% \n",
      "openssl-1.1.1u       | 5.5 MB    | ###5       |  36% \n",
      "openssl-1.1.1u       | 5.5 MB    | ###9       |  40% \n",
      "openssl-1.1.1u       | 5.5 MB    | ####2      |  42% \n",
      "openssl-1.1.1u       | 5.5 MB    | ####4      |  44% \n",
      "openssl-1.1.1u       | 5.5 MB    | #####2     |  53% \n",
      "openssl-1.1.1u       | 5.5 MB    | #####6     |  57% \n",
      "openssl-1.1.1u       | 5.5 MB    | ######1    |  61% \n",
      "openssl-1.1.1u       | 5.5 MB    | ######5    |  65% \n",
      "openssl-1.1.1u       | 5.5 MB    | #######    |  71% \n",
      "openssl-1.1.1u       | 5.5 MB    | #######5   |  75% \n",
      "openssl-1.1.1u       | 5.5 MB    | #######8   |  79% \n",
      "openssl-1.1.1u       | 5.5 MB    | ########2  |  82% \n",
      "openssl-1.1.1u       | 5.5 MB    | ########5  |  85% \n",
      "openssl-1.1.1u       | 5.5 MB    | ########9  |  89% \n",
      "openssl-1.1.1u       | 5.5 MB    | #########2 |  93% \n",
      "openssl-1.1.1u       | 5.5 MB    | #########5 |  96% \n",
      "openssl-1.1.1u       | 5.5 MB    | #########9 |  99% \n",
      "openssl-1.1.1u       | 5.5 MB    | ########## | 100% \n",
      "Preparing transaction: ...working... done\n",
      "Verifying transaction: ...working... done\n",
      "Executing transaction: ...working... done\n",
      "Retrieving notices: ...working... done\n",
      "\n",
      "Note: you may need to restart the kernel to use updated packages.\n"
     ]
    },
    {
     "name": "stderr",
     "output_type": "stream",
     "text": [
      "\n",
      "\n",
      "==> WARNING: A newer version of conda exists. <==\n",
      "  current version: 22.9.0\n",
      "  latest version: 23.5.0\n",
      "\n",
      "Please update conda by running\n",
      "\n",
      "    $ conda update -n base -c defaults conda\n",
      "\n",
      "\n"
     ]
    }
   ],
   "source": [
    "conda install python-graphviz"
   ]
  },
  {
   "cell_type": "markdown",
   "id": "5faf6f42",
   "metadata": {},
   "source": [
    "# Visualize decision tree with graphviz"
   ]
  },
  {
   "cell_type": "code",
   "execution_count": 33,
   "id": "3e93de1b",
   "metadata": {},
   "outputs": [],
   "source": [
    "import graphviz"
   ]
  },
  {
   "cell_type": "code",
   "execution_count": 34,
   "id": "d95ab609",
   "metadata": {},
   "outputs": [
    {
     "data": {
      "image/svg+xml": [
       "<?xml version=\"1.0\" encoding=\"UTF-8\" standalone=\"no\"?>\n",
       "<!DOCTYPE svg PUBLIC \"-//W3C//DTD SVG 1.1//EN\"\n",
       " \"http://www.w3.org/Graphics/SVG/1.1/DTD/svg11.dtd\">\n",
       "<!-- Generated by graphviz version 2.50.0 (0)\n",
       " -->\n",
       "<!-- Title: Tree Pages: 1 -->\n",
       "<svg width=\"417pt\" height=\"433pt\"\n",
       " viewBox=\"0.00 0.00 416.50 433.00\" xmlns=\"http://www.w3.org/2000/svg\" xmlns:xlink=\"http://www.w3.org/1999/xlink\">\n",
       "<g id=\"graph0\" class=\"graph\" transform=\"scale(1 1) rotate(0) translate(4 429)\">\n",
       "<title>Tree</title>\n",
       "<polygon fill=\"white\" stroke=\"transparent\" points=\"-4,4 -4,-429 412.5,-429 412.5,4 -4,4\"/>\n",
       "<!-- 0 -->\n",
       "<g id=\"node1\" class=\"node\">\n",
       "<title>0</title>\n",
       "<path fill=\"#85c2ef\" stroke=\"black\" d=\"M238.5,-425C238.5,-425 92.5,-425 92.5,-425 86.5,-425 80.5,-419 80.5,-413 80.5,-413 80.5,-354 80.5,-354 80.5,-348 86.5,-342 92.5,-342 92.5,-342 238.5,-342 238.5,-342 244.5,-342 250.5,-348 250.5,-354 250.5,-354 250.5,-413 250.5,-413 250.5,-419 244.5,-425 238.5,-425\"/>\n",
       "<text text-anchor=\"start\" x=\"130.5\" y=\"-409.8\" font-family=\"Helvetica,sans-Serif\" font-size=\"14.00\">safety ≤ 1.5</text>\n",
       "<text text-anchor=\"start\" x=\"130\" y=\"-394.8\" font-family=\"Helvetica,sans-Serif\" font-size=\"14.00\">gini = 0.455</text>\n",
       "<text text-anchor=\"start\" x=\"117\" y=\"-379.8\" font-family=\"Helvetica,sans-Serif\" font-size=\"14.00\">samples = 1157</text>\n",
       "<text text-anchor=\"start\" x=\"88.5\" y=\"-364.8\" font-family=\"Helvetica,sans-Serif\" font-size=\"14.00\">value = [255, 49, 813, 40]</text>\n",
       "<text text-anchor=\"start\" x=\"124\" y=\"-349.8\" font-family=\"Helvetica,sans-Serif\" font-size=\"14.00\">class = unacc</text>\n",
       "</g>\n",
       "<!-- 1 -->\n",
       "<g id=\"node2\" class=\"node\">\n",
       "<title>1</title>\n",
       "<path fill=\"#399de5\" stroke=\"black\" d=\"M137.5,-298.5C137.5,-298.5 21.5,-298.5 21.5,-298.5 15.5,-298.5 9.5,-292.5 9.5,-286.5 9.5,-286.5 9.5,-242.5 9.5,-242.5 9.5,-236.5 15.5,-230.5 21.5,-230.5 21.5,-230.5 137.5,-230.5 137.5,-230.5 143.5,-230.5 149.5,-236.5 149.5,-242.5 149.5,-242.5 149.5,-286.5 149.5,-286.5 149.5,-292.5 143.5,-298.5 137.5,-298.5\"/>\n",
       "<text text-anchor=\"start\" x=\"51.5\" y=\"-283.3\" font-family=\"Helvetica,sans-Serif\" font-size=\"14.00\">gini = 0.0</text>\n",
       "<text text-anchor=\"start\" x=\"34.5\" y=\"-268.3\" font-family=\"Helvetica,sans-Serif\" font-size=\"14.00\">samples = 386</text>\n",
       "<text text-anchor=\"start\" x=\"17.5\" y=\"-253.3\" font-family=\"Helvetica,sans-Serif\" font-size=\"14.00\">value = [0, 0, 386, 0]</text>\n",
       "<text text-anchor=\"start\" x=\"38\" y=\"-238.3\" font-family=\"Helvetica,sans-Serif\" font-size=\"14.00\">class = unacc</text>\n",
       "</g>\n",
       "<!-- 0&#45;&gt;1 -->\n",
       "<g id=\"edge1\" class=\"edge\">\n",
       "<title>0&#45;&gt;1</title>\n",
       "<path fill=\"none\" stroke=\"black\" d=\"M135.66,-341.91C127.31,-330.54 118.22,-318.18 109.84,-306.77\"/>\n",
       "<polygon fill=\"black\" stroke=\"black\" points=\"112.62,-304.65 103.88,-298.67 106.98,-308.8 112.62,-304.65\"/>\n",
       "<text text-anchor=\"middle\" x=\"100.11\" y=\"-319.68\" font-family=\"Helvetica,sans-Serif\" font-size=\"14.00\">True</text>\n",
       "</g>\n",
       "<!-- 2 -->\n",
       "<g id=\"node3\" class=\"node\">\n",
       "<title>2</title>\n",
       "<path fill=\"#bddef6\" stroke=\"black\" d=\"M325.5,-306C325.5,-306 179.5,-306 179.5,-306 173.5,-306 167.5,-300 167.5,-294 167.5,-294 167.5,-235 167.5,-235 167.5,-229 173.5,-223 179.5,-223 179.5,-223 325.5,-223 325.5,-223 331.5,-223 337.5,-229 337.5,-235 337.5,-235 337.5,-294 337.5,-294 337.5,-300 331.5,-306 325.5,-306\"/>\n",
       "<text text-anchor=\"start\" x=\"211.5\" y=\"-290.8\" font-family=\"Helvetica,sans-Serif\" font-size=\"14.00\">persons ≤ 2.5</text>\n",
       "<text text-anchor=\"start\" x=\"217\" y=\"-275.8\" font-family=\"Helvetica,sans-Serif\" font-size=\"14.00\">gini = 0.577</text>\n",
       "<text text-anchor=\"start\" x=\"207.5\" y=\"-260.8\" font-family=\"Helvetica,sans-Serif\" font-size=\"14.00\">samples = 771</text>\n",
       "<text text-anchor=\"start\" x=\"175.5\" y=\"-245.8\" font-family=\"Helvetica,sans-Serif\" font-size=\"14.00\">value = [255, 49, 427, 40]</text>\n",
       "<text text-anchor=\"start\" x=\"211\" y=\"-230.8\" font-family=\"Helvetica,sans-Serif\" font-size=\"14.00\">class = unacc</text>\n",
       "</g>\n",
       "<!-- 0&#45;&gt;2 -->\n",
       "<g id=\"edge2\" class=\"edge\">\n",
       "<title>0&#45;&gt;2</title>\n",
       "<path fill=\"none\" stroke=\"black\" d=\"M195.68,-341.91C202.36,-332.92 209.51,-323.32 216.4,-314.05\"/>\n",
       "<polygon fill=\"black\" stroke=\"black\" points=\"219.21,-316.13 222.37,-306.02 213.59,-311.96 219.21,-316.13\"/>\n",
       "<text text-anchor=\"middle\" x=\"226.01\" y=\"-327.05\" font-family=\"Helvetica,sans-Serif\" font-size=\"14.00\">False</text>\n",
       "</g>\n",
       "<!-- 3 -->\n",
       "<g id=\"node4\" class=\"node\">\n",
       "<title>3</title>\n",
       "<path fill=\"#f9e4d4\" stroke=\"black\" d=\"M238.5,-187C238.5,-187 92.5,-187 92.5,-187 86.5,-187 80.5,-181 80.5,-175 80.5,-175 80.5,-116 80.5,-116 80.5,-110 86.5,-104 92.5,-104 92.5,-104 238.5,-104 238.5,-104 244.5,-104 250.5,-110 250.5,-116 250.5,-116 250.5,-175 250.5,-175 250.5,-181 244.5,-187 238.5,-187\"/>\n",
       "<text text-anchor=\"start\" x=\"128.5\" y=\"-171.8\" font-family=\"Helvetica,sans-Serif\" font-size=\"14.00\">buying ≤ 2.5</text>\n",
       "<text text-anchor=\"start\" x=\"130\" y=\"-156.8\" font-family=\"Helvetica,sans-Serif\" font-size=\"14.00\">gini = 0.631</text>\n",
       "<text text-anchor=\"start\" x=\"120.5\" y=\"-141.8\" font-family=\"Helvetica,sans-Serif\" font-size=\"14.00\">samples = 525</text>\n",
       "<text text-anchor=\"start\" x=\"88.5\" y=\"-126.8\" font-family=\"Helvetica,sans-Serif\" font-size=\"14.00\">value = [255, 49, 181, 40]</text>\n",
       "<text text-anchor=\"start\" x=\"124\" y=\"-111.8\" font-family=\"Helvetica,sans-Serif\" font-size=\"14.00\">class = unacc</text>\n",
       "</g>\n",
       "<!-- 2&#45;&gt;3 -->\n",
       "<g id=\"edge3\" class=\"edge\">\n",
       "<title>2&#45;&gt;3</title>\n",
       "<path fill=\"none\" stroke=\"black\" d=\"M222.32,-222.91C215.64,-213.92 208.49,-204.32 201.6,-195.05\"/>\n",
       "<polygon fill=\"black\" stroke=\"black\" points=\"204.41,-192.96 195.63,-187.02 198.79,-197.13 204.41,-192.96\"/>\n",
       "</g>\n",
       "<!-- 6 -->\n",
       "<g id=\"node7\" class=\"node\">\n",
       "<title>6</title>\n",
       "<path fill=\"#399de5\" stroke=\"black\" d=\"M396.5,-179.5C396.5,-179.5 280.5,-179.5 280.5,-179.5 274.5,-179.5 268.5,-173.5 268.5,-167.5 268.5,-167.5 268.5,-123.5 268.5,-123.5 268.5,-117.5 274.5,-111.5 280.5,-111.5 280.5,-111.5 396.5,-111.5 396.5,-111.5 402.5,-111.5 408.5,-117.5 408.5,-123.5 408.5,-123.5 408.5,-167.5 408.5,-167.5 408.5,-173.5 402.5,-179.5 396.5,-179.5\"/>\n",
       "<text text-anchor=\"start\" x=\"310.5\" y=\"-164.3\" font-family=\"Helvetica,sans-Serif\" font-size=\"14.00\">gini = 0.0</text>\n",
       "<text text-anchor=\"start\" x=\"293.5\" y=\"-149.3\" font-family=\"Helvetica,sans-Serif\" font-size=\"14.00\">samples = 246</text>\n",
       "<text text-anchor=\"start\" x=\"276.5\" y=\"-134.3\" font-family=\"Helvetica,sans-Serif\" font-size=\"14.00\">value = [0, 0, 246, 0]</text>\n",
       "<text text-anchor=\"start\" x=\"297\" y=\"-119.3\" font-family=\"Helvetica,sans-Serif\" font-size=\"14.00\">class = unacc</text>\n",
       "</g>\n",
       "<!-- 2&#45;&gt;6 -->\n",
       "<g id=\"edge6\" class=\"edge\">\n",
       "<title>2&#45;&gt;6</title>\n",
       "<path fill=\"none\" stroke=\"black\" d=\"M282.34,-222.91C290.69,-211.54 299.78,-199.18 308.16,-187.77\"/>\n",
       "<polygon fill=\"black\" stroke=\"black\" points=\"311.02,-189.8 314.12,-179.67 305.38,-185.65 311.02,-189.8\"/>\n",
       "</g>\n",
       "<!-- 4 -->\n",
       "<g id=\"node5\" class=\"node\">\n",
       "<title>4</title>\n",
       "<path fill=\"#e0f0fb\" stroke=\"black\" d=\"M143,-68C143,-68 12,-68 12,-68 6,-68 0,-62 0,-56 0,-56 0,-12 0,-12 0,-6 6,0 12,0 12,0 143,0 143,0 149,0 155,-6 155,-12 155,-12 155,-56 155,-56 155,-62 149,-68 143,-68\"/>\n",
       "<text text-anchor=\"start\" x=\"42\" y=\"-52.8\" font-family=\"Helvetica,sans-Serif\" font-size=\"14.00\">gini = 0.496</text>\n",
       "<text text-anchor=\"start\" x=\"32.5\" y=\"-37.8\" font-family=\"Helvetica,sans-Serif\" font-size=\"14.00\">samples = 271</text>\n",
       "<text text-anchor=\"start\" x=\"8\" y=\"-22.8\" font-family=\"Helvetica,sans-Serif\" font-size=\"14.00\">value = [124, 0, 147, 0]</text>\n",
       "<text text-anchor=\"start\" x=\"36\" y=\"-7.8\" font-family=\"Helvetica,sans-Serif\" font-size=\"14.00\">class = unacc</text>\n",
       "</g>\n",
       "<!-- 3&#45;&gt;4 -->\n",
       "<g id=\"edge4\" class=\"edge\">\n",
       "<title>3&#45;&gt;4</title>\n",
       "<path fill=\"none\" stroke=\"black\" d=\"M132.73,-103.73C125.55,-94.79 117.94,-85.32 110.74,-76.36\"/>\n",
       "<polygon fill=\"black\" stroke=\"black\" points=\"113.25,-73.9 104.26,-68.3 107.8,-78.29 113.25,-73.9\"/>\n",
       "</g>\n",
       "<!-- 5 -->\n",
       "<g id=\"node6\" class=\"node\">\n",
       "<title>5</title>\n",
       "<path fill=\"#f5cdb0\" stroke=\"black\" d=\"M323.5,-68C323.5,-68 185.5,-68 185.5,-68 179.5,-68 173.5,-62 173.5,-56 173.5,-56 173.5,-12 173.5,-12 173.5,-6 179.5,0 185.5,0 185.5,0 323.5,0 323.5,0 329.5,0 335.5,-6 335.5,-12 335.5,-12 335.5,-56 335.5,-56 335.5,-62 329.5,-68 323.5,-68\"/>\n",
       "<text text-anchor=\"start\" x=\"219\" y=\"-52.8\" font-family=\"Helvetica,sans-Serif\" font-size=\"14.00\">gini = 0.654</text>\n",
       "<text text-anchor=\"start\" x=\"209.5\" y=\"-37.8\" font-family=\"Helvetica,sans-Serif\" font-size=\"14.00\">samples = 254</text>\n",
       "<text text-anchor=\"start\" x=\"181.5\" y=\"-22.8\" font-family=\"Helvetica,sans-Serif\" font-size=\"14.00\">value = [131, 49, 34, 40]</text>\n",
       "<text text-anchor=\"start\" x=\"213\" y=\"-7.8\" font-family=\"Helvetica,sans-Serif\" font-size=\"14.00\">class = unacc</text>\n",
       "</g>\n",
       "<!-- 3&#45;&gt;5 -->\n",
       "<g id=\"edge5\" class=\"edge\">\n",
       "<title>3&#45;&gt;5</title>\n",
       "<path fill=\"none\" stroke=\"black\" d=\"M198.64,-103.73C205.98,-94.7 213.76,-85.12 221.11,-76.08\"/>\n",
       "<polygon fill=\"black\" stroke=\"black\" points=\"223.84,-78.27 227.43,-68.3 218.41,-73.85 223.84,-78.27\"/>\n",
       "</g>\n",
       "</g>\n",
       "</svg>\n"
      ],
      "text/plain": [
       "<graphviz.sources.Source at 0x2113ae36d30>"
      ]
     },
     "execution_count": 34,
     "metadata": {},
     "output_type": "execute_result"
    }
   ],
   "source": [
    "dot_data=tree.export_graphviz(clf_gini, out_file=None,\n",
    "                             feature_names=x_train.columns,\n",
    "                             class_names=y_train,\n",
    "                             filled=True, rounded=True,\n",
    "                             special_characters=True)\n",
    "\n",
    "graph=graphviz.Source(dot_data)\n",
    "graph"
   ]
  },
  {
   "cell_type": "markdown",
   "id": "81973507",
   "metadata": {},
   "source": [
    "# Decision Tree Classifier with criterion entropy"
   ]
  },
  {
   "cell_type": "code",
   "execution_count": 35,
   "id": "bca4d1c0",
   "metadata": {},
   "outputs": [
    {
     "data": {
      "text/plain": [
       "DecisionTreeClassifier(criterion='entropy', max_depth=3, random_state=0)"
      ]
     },
     "execution_count": 35,
     "metadata": {},
     "output_type": "execute_result"
    }
   ],
   "source": [
    "# instantiate the DecisionTreeClassifier model with criterion entropy\n",
    "clf_en = DecisionTreeClassifier(criterion='entropy',max_depth=3,random_state=0)\n",
    "\n",
    "#fit the model\n",
    "clf_en.fit(x_train,y_train)"
   ]
  },
  {
   "cell_type": "markdown",
   "id": "cfe19007",
   "metadata": {},
   "source": [
    "# predict the test set results with criterion entropy"
   ]
  },
  {
   "cell_type": "code",
   "execution_count": 36,
   "id": "abce7b22",
   "metadata": {},
   "outputs": [],
   "source": [
    "y_pred_en= clf_en.predict(x_test)"
   ]
  },
  {
   "cell_type": "markdown",
   "id": "e349e066",
   "metadata": {},
   "source": [
    "# check accuracy score with criterion entropy"
   ]
  },
  {
   "cell_type": "code",
   "execution_count": 37,
   "id": "0b381f39",
   "metadata": {},
   "outputs": [
    {
     "name": "stdout",
     "output_type": "stream",
     "text": [
      "model accuracy score with criterion entropy:0.5271\n"
     ]
    }
   ],
   "source": [
    "from sklearn.metrics import accuracy_score\n",
    "print('model accuracy score with criterion entropy:{0:0.4f}'.format(accuracy_score(y_test,y_pred_en)))"
   ]
  },
  {
   "cell_type": "markdown",
   "id": "ab40a7b5",
   "metadata": {},
   "source": [
    "# compare the train-set and test set accuracy"
   ]
  },
  {
   "cell_type": "markdown",
   "id": "8bd2c7cd",
   "metadata": {},
   "source": [
    "now, i will compare the train set and test set accuracy to check for overfitting."
   ]
  },
  {
   "cell_type": "code",
   "execution_count": 38,
   "id": "4f13eadc",
   "metadata": {},
   "outputs": [
    {
     "data": {
      "text/plain": [
       "array(['unacc', 'unacc', 'unacc', ..., 'unacc', 'unacc', 'acc'],\n",
       "      dtype=object)"
      ]
     },
     "execution_count": 38,
     "metadata": {},
     "output_type": "execute_result"
    }
   ],
   "source": [
    "y_pred_train_en = clf_en.predict(x_train)\n",
    "y_pred_train_en"
   ]
  },
  {
   "cell_type": "code",
   "execution_count": 39,
   "id": "d65072b8",
   "metadata": {},
   "outputs": [
    {
     "name": "stdout",
     "output_type": "stream",
     "text": [
      "Training-set accuracy score:0.7865\n"
     ]
    }
   ],
   "source": [
    "print('Training-set accuracy score:{0:0.4f}'.format(accuracy_score(y_train, y_pred_train_en)))"
   ]
  },
  {
   "cell_type": "markdown",
   "id": "c38e29c7",
   "metadata": {},
   "source": [
    "# check for overfitting and underfitting"
   ]
  },
  {
   "cell_type": "code",
   "execution_count": 40,
   "id": "1b0667ec",
   "metadata": {},
   "outputs": [
    {
     "name": "stdout",
     "output_type": "stream",
     "text": [
      "Training test-set score:0.786517\n",
      "Test set score :0.527145\n"
     ]
    }
   ],
   "source": [
    "#print the score on training and test set\n",
    "print('Training test-set score:{:4f}'.format(clf_en.score(x_train,y_train)))\n",
    "print('Test set score :{:4f}'.format(clf_en.score(x_test, y_test)))"
   ]
  },
  {
   "cell_type": "markdown",
   "id": "28ce9a8b",
   "metadata": {},
   "source": [
    "we can see that the training set score and test set score is same as above . the training set accuracy score is 0.7865 while the test set accuracy 0.527145. these two values are quite comparable . so , there is no sign of overfitting"
   ]
  },
  {
   "cell_type": "markdown",
   "id": "41f44db5",
   "metadata": {},
   "source": [
    "# Visualize decion trees"
   ]
  },
  {
   "cell_type": "code",
   "execution_count": 41,
   "id": "61a82670",
   "metadata": {},
   "outputs": [
    {
     "data": {
      "text/plain": [
       "[Text(0.4, 0.875, 'X[5] <= 1.5\\nentropy = 1.2\\nsamples = 1157\\nvalue = [255, 49, 813, 40]'),\n",
       " Text(0.2, 0.625, 'entropy = 0.0\\nsamples = 386\\nvalue = [0, 0, 386, 0]'),\n",
       " Text(0.6, 0.625, 'X[3] <= 2.5\\nentropy = 1.474\\nsamples = 771\\nvalue = [255, 49, 427, 40]'),\n",
       " Text(0.4, 0.375, 'X[0] <= 2.5\\nentropy = 1.638\\nsamples = 525\\nvalue = [255, 49, 181, 40]'),\n",
       " Text(0.2, 0.125, 'entropy = 0.995\\nsamples = 271\\nvalue = [124, 0, 147, 0]'),\n",
       " Text(0.6, 0.125, 'entropy = 1.759\\nsamples = 254\\nvalue = [131, 49, 34, 40]'),\n",
       " Text(0.8, 0.375, 'entropy = 0.0\\nsamples = 246\\nvalue = [0, 0, 246, 0]')]"
      ]
     },
     "execution_count": 41,
     "metadata": {},
     "output_type": "execute_result"
    },
    {
     "data": {
      "image/png": "[encoded data removed]",
      "text/plain": [
       "<Figure size 1200x800 with 1 Axes>"
      ]
     },
     "metadata": {},
     "output_type": "display_data"
    }
   ],
   "source": [
    "plt.figure(figsize=(12,8))\n",
    "from sklearn import tree\n",
    "tree.plot_tree(clf_en.fit(x_train,y_train))"
   ]
  },
  {
   "cell_type": "code",
   "execution_count": null,
   "id": "2f3345c3",
   "metadata": {},
   "outputs": [],
   "source": []
  },
  {
   "cell_type": "markdown",
   "id": "a92656d3",
   "metadata": {},
   "source": [
    "# Visualize decision tree with graphviz"
   ]
  },
  {
   "cell_type": "code",
   "execution_count": 42,
   "id": "53cbdec3",
   "metadata": {},
   "outputs": [
    {
     "data": {
      "image/svg+xml": [
       "<?xml version=\"1.0\" encoding=\"UTF-8\" standalone=\"no\"?>\n",
       "<!DOCTYPE svg PUBLIC \"-//W3C//DTD SVG 1.1//EN\"\n",
       " \"http://www.w3.org/Graphics/SVG/1.1/DTD/svg11.dtd\">\n",
       "<!-- Generated by graphviz version 2.50.0 (0)\n",
       " -->\n",
       "<!-- Title: Tree Pages: 1 -->\n",
       "<svg width=\"417pt\" height=\"433pt\"\n",
       " viewBox=\"0.00 0.00 416.50 433.00\" xmlns=\"http://www.w3.org/2000/svg\" xmlns:xlink=\"http://www.w3.org/1999/xlink\">\n",
       "<g id=\"graph0\" class=\"graph\" transform=\"scale(1 1) rotate(0) translate(4 429)\">\n",
       "<title>Tree</title>\n",
       "<polygon fill=\"white\" stroke=\"transparent\" points=\"-4,4 -4,-429 412.5,-429 412.5,4 -4,4\"/>\n",
       "<!-- 0 -->\n",
       "<g id=\"node1\" class=\"node\">\n",
       "<title>0</title>\n",
       "<path fill=\"#85c2ef\" stroke=\"black\" d=\"M238.5,-425C238.5,-425 92.5,-425 92.5,-425 86.5,-425 80.5,-419 80.5,-413 80.5,-413 80.5,-354 80.5,-354 80.5,-348 86.5,-342 92.5,-342 92.5,-342 238.5,-342 238.5,-342 244.5,-342 250.5,-348 250.5,-354 250.5,-354 250.5,-413 250.5,-413 250.5,-419 244.5,-425 238.5,-425\"/>\n",
       "<text text-anchor=\"start\" x=\"130.5\" y=\"-409.8\" font-family=\"Helvetica,sans-Serif\" font-size=\"14.00\">safety ≤ 1.5</text>\n",
       "<text text-anchor=\"start\" x=\"130\" y=\"-394.8\" font-family=\"Helvetica,sans-Serif\" font-size=\"14.00\">gini = 0.455</text>\n",
       "<text text-anchor=\"start\" x=\"117\" y=\"-379.8\" font-family=\"Helvetica,sans-Serif\" font-size=\"14.00\">samples = 1157</text>\n",
       "<text text-anchor=\"start\" x=\"88.5\" y=\"-364.8\" font-family=\"Helvetica,sans-Serif\" font-size=\"14.00\">value = [255, 49, 813, 40]</text>\n",
       "<text text-anchor=\"start\" x=\"124\" y=\"-349.8\" font-family=\"Helvetica,sans-Serif\" font-size=\"14.00\">class = unacc</text>\n",
       "</g>\n",
       "<!-- 1 -->\n",
       "<g id=\"node2\" class=\"node\">\n",
       "<title>1</title>\n",
       "<path fill=\"#399de5\" stroke=\"black\" d=\"M137.5,-298.5C137.5,-298.5 21.5,-298.5 21.5,-298.5 15.5,-298.5 9.5,-292.5 9.5,-286.5 9.5,-286.5 9.5,-242.5 9.5,-242.5 9.5,-236.5 15.5,-230.5 21.5,-230.5 21.5,-230.5 137.5,-230.5 137.5,-230.5 143.5,-230.5 149.5,-236.5 149.5,-242.5 149.5,-242.5 149.5,-286.5 149.5,-286.5 149.5,-292.5 143.5,-298.5 137.5,-298.5\"/>\n",
       "<text text-anchor=\"start\" x=\"51.5\" y=\"-283.3\" font-family=\"Helvetica,sans-Serif\" font-size=\"14.00\">gini = 0.0</text>\n",
       "<text text-anchor=\"start\" x=\"34.5\" y=\"-268.3\" font-family=\"Helvetica,sans-Serif\" font-size=\"14.00\">samples = 386</text>\n",
       "<text text-anchor=\"start\" x=\"17.5\" y=\"-253.3\" font-family=\"Helvetica,sans-Serif\" font-size=\"14.00\">value = [0, 0, 386, 0]</text>\n",
       "<text text-anchor=\"start\" x=\"38\" y=\"-238.3\" font-family=\"Helvetica,sans-Serif\" font-size=\"14.00\">class = unacc</text>\n",
       "</g>\n",
       "<!-- 0&#45;&gt;1 -->\n",
       "<g id=\"edge1\" class=\"edge\">\n",
       "<title>0&#45;&gt;1</title>\n",
       "<path fill=\"none\" stroke=\"black\" d=\"M135.66,-341.91C127.31,-330.54 118.22,-318.18 109.84,-306.77\"/>\n",
       "<polygon fill=\"black\" stroke=\"black\" points=\"112.62,-304.65 103.88,-298.67 106.98,-308.8 112.62,-304.65\"/>\n",
       "<text text-anchor=\"middle\" x=\"100.11\" y=\"-319.68\" font-family=\"Helvetica,sans-Serif\" font-size=\"14.00\">True</text>\n",
       "</g>\n",
       "<!-- 2 -->\n",
       "<g id=\"node3\" class=\"node\">\n",
       "<title>2</title>\n",
       "<path fill=\"#bddef6\" stroke=\"black\" d=\"M325.5,-306C325.5,-306 179.5,-306 179.5,-306 173.5,-306 167.5,-300 167.5,-294 167.5,-294 167.5,-235 167.5,-235 167.5,-229 173.5,-223 179.5,-223 179.5,-223 325.5,-223 325.5,-223 331.5,-223 337.5,-229 337.5,-235 337.5,-235 337.5,-294 337.5,-294 337.5,-300 331.5,-306 325.5,-306\"/>\n",
       "<text text-anchor=\"start\" x=\"211.5\" y=\"-290.8\" font-family=\"Helvetica,sans-Serif\" font-size=\"14.00\">persons ≤ 2.5</text>\n",
       "<text text-anchor=\"start\" x=\"217\" y=\"-275.8\" font-family=\"Helvetica,sans-Serif\" font-size=\"14.00\">gini = 0.577</text>\n",
       "<text text-anchor=\"start\" x=\"207.5\" y=\"-260.8\" font-family=\"Helvetica,sans-Serif\" font-size=\"14.00\">samples = 771</text>\n",
       "<text text-anchor=\"start\" x=\"175.5\" y=\"-245.8\" font-family=\"Helvetica,sans-Serif\" font-size=\"14.00\">value = [255, 49, 427, 40]</text>\n",
       "<text text-anchor=\"start\" x=\"211\" y=\"-230.8\" font-family=\"Helvetica,sans-Serif\" font-size=\"14.00\">class = unacc</text>\n",
       "</g>\n",
       "<!-- 0&#45;&gt;2 -->\n",
       "<g id=\"edge2\" class=\"edge\">\n",
       "<title>0&#45;&gt;2</title>\n",
       "<path fill=\"none\" stroke=\"black\" d=\"M195.68,-341.91C202.36,-332.92 209.51,-323.32 216.4,-314.05\"/>\n",
       "<polygon fill=\"black\" stroke=\"black\" points=\"219.21,-316.13 222.37,-306.02 213.59,-311.96 219.21,-316.13\"/>\n",
       "<text text-anchor=\"middle\" x=\"226.01\" y=\"-327.05\" font-family=\"Helvetica,sans-Serif\" font-size=\"14.00\">False</text>\n",
       "</g>\n",
       "<!-- 3 -->\n",
       "<g id=\"node4\" class=\"node\">\n",
       "<title>3</title>\n",
       "<path fill=\"#f9e4d4\" stroke=\"black\" d=\"M238.5,-187C238.5,-187 92.5,-187 92.5,-187 86.5,-187 80.5,-181 80.5,-175 80.5,-175 80.5,-116 80.5,-116 80.5,-110 86.5,-104 92.5,-104 92.5,-104 238.5,-104 238.5,-104 244.5,-104 250.5,-110 250.5,-116 250.5,-116 250.5,-175 250.5,-175 250.5,-181 244.5,-187 238.5,-187\"/>\n",
       "<text text-anchor=\"start\" x=\"128.5\" y=\"-171.8\" font-family=\"Helvetica,sans-Serif\" font-size=\"14.00\">buying ≤ 2.5</text>\n",
       "<text text-anchor=\"start\" x=\"130\" y=\"-156.8\" font-family=\"Helvetica,sans-Serif\" font-size=\"14.00\">gini = 0.631</text>\n",
       "<text text-anchor=\"start\" x=\"120.5\" y=\"-141.8\" font-family=\"Helvetica,sans-Serif\" font-size=\"14.00\">samples = 525</text>\n",
       "<text text-anchor=\"start\" x=\"88.5\" y=\"-126.8\" font-family=\"Helvetica,sans-Serif\" font-size=\"14.00\">value = [255, 49, 181, 40]</text>\n",
       "<text text-anchor=\"start\" x=\"124\" y=\"-111.8\" font-family=\"Helvetica,sans-Serif\" font-size=\"14.00\">class = unacc</text>\n",
       "</g>\n",
       "<!-- 2&#45;&gt;3 -->\n",
       "<g id=\"edge3\" class=\"edge\">\n",
       "<title>2&#45;&gt;3</title>\n",
       "<path fill=\"none\" stroke=\"black\" d=\"M222.32,-222.91C215.64,-213.92 208.49,-204.32 201.6,-195.05\"/>\n",
       "<polygon fill=\"black\" stroke=\"black\" points=\"204.41,-192.96 195.63,-187.02 198.79,-197.13 204.41,-192.96\"/>\n",
       "</g>\n",
       "<!-- 6 -->\n",
       "<g id=\"node7\" class=\"node\">\n",
       "<title>6</title>\n",
       "<path fill=\"#399de5\" stroke=\"black\" d=\"M396.5,-179.5C396.5,-179.5 280.5,-179.5 280.5,-179.5 274.5,-179.5 268.5,-173.5 268.5,-167.5 268.5,-167.5 268.5,-123.5 268.5,-123.5 268.5,-117.5 274.5,-111.5 280.5,-111.5 280.5,-111.5 396.5,-111.5 396.5,-111.5 402.5,-111.5 408.5,-117.5 408.5,-123.5 408.5,-123.5 408.5,-167.5 408.5,-167.5 408.5,-173.5 402.5,-179.5 396.5,-179.5\"/>\n",
       "<text text-anchor=\"start\" x=\"310.5\" y=\"-164.3\" font-family=\"Helvetica,sans-Serif\" font-size=\"14.00\">gini = 0.0</text>\n",
       "<text text-anchor=\"start\" x=\"293.5\" y=\"-149.3\" font-family=\"Helvetica,sans-Serif\" font-size=\"14.00\">samples = 246</text>\n",
       "<text text-anchor=\"start\" x=\"276.5\" y=\"-134.3\" font-family=\"Helvetica,sans-Serif\" font-size=\"14.00\">value = [0, 0, 246, 0]</text>\n",
       "<text text-anchor=\"start\" x=\"297\" y=\"-119.3\" font-family=\"Helvetica,sans-Serif\" font-size=\"14.00\">class = unacc</text>\n",
       "</g>\n",
       "<!-- 2&#45;&gt;6 -->\n",
       "<g id=\"edge6\" class=\"edge\">\n",
       "<title>2&#45;&gt;6</title>\n",
       "<path fill=\"none\" stroke=\"black\" d=\"M282.34,-222.91C290.69,-211.54 299.78,-199.18 308.16,-187.77\"/>\n",
       "<polygon fill=\"black\" stroke=\"black\" points=\"311.02,-189.8 314.12,-179.67 305.38,-185.65 311.02,-189.8\"/>\n",
       "</g>\n",
       "<!-- 4 -->\n",
       "<g id=\"node5\" class=\"node\">\n",
       "<title>4</title>\n",
       "<path fill=\"#e0f0fb\" stroke=\"black\" d=\"M143,-68C143,-68 12,-68 12,-68 6,-68 0,-62 0,-56 0,-56 0,-12 0,-12 0,-6 6,0 12,0 12,0 143,0 143,0 149,0 155,-6 155,-12 155,-12 155,-56 155,-56 155,-62 149,-68 143,-68\"/>\n",
       "<text text-anchor=\"start\" x=\"42\" y=\"-52.8\" font-family=\"Helvetica,sans-Serif\" font-size=\"14.00\">gini = 0.496</text>\n",
       "<text text-anchor=\"start\" x=\"32.5\" y=\"-37.8\" font-family=\"Helvetica,sans-Serif\" font-size=\"14.00\">samples = 271</text>\n",
       "<text text-anchor=\"start\" x=\"8\" y=\"-22.8\" font-family=\"Helvetica,sans-Serif\" font-size=\"14.00\">value = [124, 0, 147, 0]</text>\n",
       "<text text-anchor=\"start\" x=\"36\" y=\"-7.8\" font-family=\"Helvetica,sans-Serif\" font-size=\"14.00\">class = unacc</text>\n",
       "</g>\n",
       "<!-- 3&#45;&gt;4 -->\n",
       "<g id=\"edge4\" class=\"edge\">\n",
       "<title>3&#45;&gt;4</title>\n",
       "<path fill=\"none\" stroke=\"black\" d=\"M132.73,-103.73C125.55,-94.79 117.94,-85.32 110.74,-76.36\"/>\n",
       "<polygon fill=\"black\" stroke=\"black\" points=\"113.25,-73.9 104.26,-68.3 107.8,-78.29 113.25,-73.9\"/>\n",
       "</g>\n",
       "<!-- 5 -->\n",
       "<g id=\"node6\" class=\"node\">\n",
       "<title>5</title>\n",
       "<path fill=\"#f5cdb0\" stroke=\"black\" d=\"M323.5,-68C323.5,-68 185.5,-68 185.5,-68 179.5,-68 173.5,-62 173.5,-56 173.5,-56 173.5,-12 173.5,-12 173.5,-6 179.5,0 185.5,0 185.5,0 323.5,0 323.5,0 329.5,0 335.5,-6 335.5,-12 335.5,-12 335.5,-56 335.5,-56 335.5,-62 329.5,-68 323.5,-68\"/>\n",
       "<text text-anchor=\"start\" x=\"219\" y=\"-52.8\" font-family=\"Helvetica,sans-Serif\" font-size=\"14.00\">gini = 0.654</text>\n",
       "<text text-anchor=\"start\" x=\"209.5\" y=\"-37.8\" font-family=\"Helvetica,sans-Serif\" font-size=\"14.00\">samples = 254</text>\n",
       "<text text-anchor=\"start\" x=\"181.5\" y=\"-22.8\" font-family=\"Helvetica,sans-Serif\" font-size=\"14.00\">value = [131, 49, 34, 40]</text>\n",
       "<text text-anchor=\"start\" x=\"213\" y=\"-7.8\" font-family=\"Helvetica,sans-Serif\" font-size=\"14.00\">class = unacc</text>\n",
       "</g>\n",
       "<!-- 3&#45;&gt;5 -->\n",
       "<g id=\"edge5\" class=\"edge\">\n",
       "<title>3&#45;&gt;5</title>\n",
       "<path fill=\"none\" stroke=\"black\" d=\"M198.64,-103.73C205.98,-94.7 213.76,-85.12 221.11,-76.08\"/>\n",
       "<polygon fill=\"black\" stroke=\"black\" points=\"223.84,-78.27 227.43,-68.3 218.41,-73.85 223.84,-78.27\"/>\n",
       "</g>\n",
       "</g>\n",
       "</svg>\n"
      ],
      "text/plain": [
       "<graphviz.sources.Source at 0x2113ae6c160>"
      ]
     },
     "execution_count": 42,
     "metadata": {},
     "output_type": "execute_result"
    }
   ],
   "source": [
    "import graphviz\n",
    "dot_data=tree.export_graphviz(clf_gini, out_file=None,\n",
    "                             feature_names=x_train.columns,\n",
    "                             class_names=y_train,\n",
    "                             filled=True, rounded=True,\n",
    "                             special_characters=True)\n",
    "graph=graphviz.Source(dot_data)\n",
    "graph"
   ]
  },
  {
   "cell_type": "markdown",
   "id": "85a7ba70",
   "metadata": {},
   "source": [
    "Now based on the above analysis we can conclude that our classifiation model accuracy is very good. Our model is doing a very good .\n",
    "our model is doing a very good job in terms of predicting the class labels.\n",
    "but, it does not gives the underlying distribution of values . also it does not tell anything about the type of errors our classifier\n",
    "is making. we have another tool called Confusion_matrix that comes to our rescue"
   ]
  },
  {
   "cell_type": "code",
   "execution_count": 43,
   "id": "23f5494d",
   "metadata": {},
   "outputs": [
    {
     "name": "stdout",
     "output_type": "stream",
     "text": [
      "Confusion matrix\n",
      "\n",
      " [[ 19   0 110   0]\n",
      " [  3   0  17   0]\n",
      " [115   0 282   0]\n",
      " [  0   0  25   0]]\n"
     ]
    }
   ],
   "source": [
    "# Print the confusion Matrix and slice it into four pices\n",
    "from sklearn.metrics import confusion_matrix\n",
    "cm=confusion_matrix(y_test,y_pred_en)\n",
    "print('Confusion matrix\\n\\n',cm)"
   ]
  },
  {
   "cell_type": "markdown",
   "id": "0e4646a1",
   "metadata": {},
   "source": [
    "# Classification Report"
   ]
  },
  {
   "cell_type": "markdown",
   "id": "f6a6dcd7",
   "metadata": {},
   "source": [
    "Classification report is another way to evalute the classification model performance. it displays the precision, recall, f1 and \n",
    "support score for the model . i have described these terms in later.\n"
   ]
  },
  {
   "cell_type": "markdown",
   "id": "5b75f119",
   "metadata": {},
   "source": [
    "we can print a classification report as follows"
   ]
  },
  {
   "cell_type": "code",
   "execution_count": 44,
   "id": "be2eb115",
   "metadata": {},
   "outputs": [
    {
     "name": "stdout",
     "output_type": "stream",
     "text": [
      "              precision    recall  f1-score   support\n",
      "\n",
      "         acc       0.14      0.15      0.14       129\n",
      "        good       0.00      0.00      0.00        20\n",
      "       unacc       0.65      0.71      0.68       397\n",
      "       vgood       0.00      0.00      0.00        25\n",
      "\n",
      "    accuracy                           0.53       571\n",
      "   macro avg       0.20      0.21      0.21       571\n",
      "weighted avg       0.48      0.53      0.50       571\n",
      "\n"
     ]
    },
    {
     "name": "stderr",
     "output_type": "stream",
     "text": [
      "C:\\anaconda\\lib\\site-packages\\sklearn\\metrics\\_classification.py:1318: UndefinedMetricWarning: Precision and F-score are ill-defined and being set to 0.0 in labels with no predicted samples. Use `zero_division` parameter to control this behavior.\n",
      "  _warn_prf(average, modifier, msg_start, len(result))\n",
      "C:\\anaconda\\lib\\site-packages\\sklearn\\metrics\\_classification.py:1318: UndefinedMetricWarning: Precision and F-score are ill-defined and being set to 0.0 in labels with no predicted samples. Use `zero_division` parameter to control this behavior.\n",
      "  _warn_prf(average, modifier, msg_start, len(result))\n",
      "C:\\anaconda\\lib\\site-packages\\sklearn\\metrics\\_classification.py:1318: UndefinedMetricWarning: Precision and F-score are ill-defined and being set to 0.0 in labels with no predicted samples. Use `zero_division` parameter to control this behavior.\n",
      "  _warn_prf(average, modifier, msg_start, len(result))\n"
     ]
    }
   ],
   "source": [
    "from sklearn.metrics import classification_report\n",
    "print(classification_report(y_test,y_pred_en))"
   ]
  },
  {
   "cell_type": "markdown",
   "id": "e6572239",
   "metadata": {},
   "source": [
    "# RESULTS AND CONCLUSION"
   ]
  },
  {
   "cell_type": "markdown",
   "id": "b6331f28",
   "metadata": {},
   "source": [
    "1. In this Project. i build a Decision-Tree Classifier model to predict the safety of the car. build two models, one with criterion gini index and another one with criterion entropy. the model yeilds a very good performance as indicated by the model accuracy in both the casess which was found to be 0.527145.\n",
    "2. In the model with criterion gini index , the training-set accuracy score is 0.786517 while the test-set accuracy to be 0.527145. these two values are quite comparable. so there is no sign of overfitting.\n",
    "3. Smiliarly , in the model with criterion entropy , the training set accuracy score is 0.7865 while the test-set accuracy to be 0.527145. we get the same values as in the case with criterion gini. so there is no sign of overfitting.\n",
    "4. In both the cases , the training set and test-set accuracy score is the same. it may happen because of small dataset.\n",
    "5. The confusion matrix and classification report yeilds very good model performance."
   ]
  },
  {
   "cell_type": "markdown",
   "id": "391c5bc7",
   "metadata": {},
   "source": []
  },
  {
   "cell_type": "code",
   "execution_count": null,
   "id": "fdd1c381",
   "metadata": {},
   "outputs": [],
   "source": []
  },
  {
   "cell_type": "markdown",
   "id": "3d6d40fb",
   "metadata": {},
   "source": []
  }
 ],
 "metadata": {
  "kernelspec": {
   "display_name": "Python 3 (ipykernel)",
   "language": "python",
   "name": "python3"
  },
  "language_info": {
   "codemirror_mode": {
    "name": "ipython",
    "version": 3
   },
   "file_extension": ".py",
   "mimetype": "text/x-python",
   "name": "python",
   "nbconvert_exporter": "python",
   "pygments_lexer": "ipython3",
   "version": "3.9.13"
  }
 },
 "nbformat": 4,
 "nbformat_minor": 5
}
